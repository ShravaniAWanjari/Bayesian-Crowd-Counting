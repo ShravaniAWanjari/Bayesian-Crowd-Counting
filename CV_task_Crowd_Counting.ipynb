{
  "nbformat": 4,
  "nbformat_minor": 0,
  "metadata": {
    "colab": {
      "provenance": [],
      "mount_file_id": "1HnQ5i_eWOEVX8mlbX2zJUwptjXkkHnKs",
      "authorship_tag": "ABX9TyNUjm0ak4cyqHsRkKFouh5t",
      "include_colab_link": true
    },
    "kernelspec": {
      "name": "python3",
      "display_name": "Python 3"
    },
    "language_info": {
      "name": "python"
    }
  },
  "cells": [
    {
      "cell_type": "markdown",
      "metadata": {
        "id": "view-in-github",
        "colab_type": "text"
      },
      "source": [
        "<a href=\"https://colab.research.google.com/github/ShravaniAWanjari/Bayesian-Crowd-Counting/blob/master/CV_task_Crowd_Counting.ipynb\" target=\"_parent\"><img src=\"https://colab.research.google.com/assets/colab-badge.svg\" alt=\"Open In Colab\"/></a>"
      ]
    },
    {
      "cell_type": "code",
      "source": [
        "from google.colab import drive\n",
        "drive.mount('/content/drive')"
      ],
      "metadata": {
        "colab": {
          "base_uri": "https://localhost:8080/"
        },
        "id": "F9BM8Mq-Bg_n",
        "outputId": "fe6d247b-ae0c-499a-88a7-bb33792101f3"
      },
      "execution_count": 17,
      "outputs": [
        {
          "output_type": "stream",
          "name": "stdout",
          "text": [
            "Drive already mounted at /content/drive; to attempt to forcibly remount, call drive.mount(\"/content/drive\", force_remount=True).\n"
          ]
        }
      ]
    },
    {
      "cell_type": "code",
      "source": [],
      "metadata": {
        "colab": {
          "base_uri": "https://localhost:8080/"
        },
        "id": "tKxq7GNGASI4",
        "outputId": "601cea8f-2d93-4dea-9f66-5e7142b82459"
      },
      "execution_count": 18,
      "outputs": [
        {
          "output_type": "stream",
          "name": "stdout",
          "text": [
            "[Errno 2] No such file or directory: '../content/drive/MyDrive/colab'\n",
            "/content/drive/MyDrive/colab/Bayesian-Crowd-Counting\n"
          ]
        }
      ]
    },
    {
      "cell_type": "code",
      "source": [
        "!ls"
      ],
      "metadata": {
        "colab": {
          "base_uri": "https://localhost:8080/"
        },
        "id": "7jsSo18kAZUU",
        "outputId": "cf4a8afa-8dab-4aec-9b65-c31da660892a"
      },
      "execution_count": 19,
      "outputs": [
        {
          "output_type": "stream",
          "name": "stdout",
          "text": [
            "datasets  losses  preprocess_dataset.py  README.md  train.py   utils\n",
            "imgs\t  models  processed_data\t test.py    train.txt  val.txt\n"
          ]
        }
      ]
    },
    {
      "cell_type": "code",
      "source": [
        "!git branch -m main"
      ],
      "metadata": {
        "id": "d7vIZKdDFUjo"
      },
      "execution_count": 20,
      "outputs": []
    },
    {
      "cell_type": "code",
      "source": [
        "!git pull origin master"
      ],
      "metadata": {
        "colab": {
          "base_uri": "https://localhost:8080/"
        },
        "id": "DrytxX20E8Tu",
        "outputId": "e9e7d6cf-3908-4ce3-c215-2ce22b4db8fc"
      },
      "execution_count": 21,
      "outputs": [
        {
          "output_type": "stream",
          "name": "stdout",
          "text": [
            "From https://github.com/ShravaniAWanjari/Bayesian-Crowd-Counting\n",
            " * branch            master     -> FETCH_HEAD\n",
            "Already up to date.\n"
          ]
        }
      ]
    },
    {
      "cell_type": "code",
      "source": [
        "!ls"
      ],
      "metadata": {
        "colab": {
          "base_uri": "https://localhost:8080/"
        },
        "id": "nqAzueY2A6tf",
        "outputId": "812aff1b-1573-4c14-8002-37ee48b577fe"
      },
      "execution_count": 22,
      "outputs": [
        {
          "output_type": "stream",
          "name": "stdout",
          "text": [
            "datasets  losses  preprocess_dataset.py  README.md  train.py   utils\n",
            "imgs\t  models  processed_data\t test.py    train.txt  val.txt\n"
          ]
        }
      ]
    },
    {
      "cell_type": "code",
      "source": [
        "!git add utils/regression_trainer.py"
      ],
      "metadata": {
        "id": "jHsGC707Wf8o"
      },
      "execution_count": 29,
      "outputs": []
    },
    {
      "cell_type": "code",
      "source": [
        "!git config --global user.email \"shravani22wanjari@gmail.com\"\n",
        "!git config --global user.name \"ShravaniAWanjari\""
      ],
      "metadata": {
        "id": "Ol-dq05JXJJq"
      },
      "execution_count": 41,
      "outputs": []
    },
    {
      "cell_type": "code",
      "source": [
        "!git commit -m \"added print statements to regression trainer py file\""
      ],
      "metadata": {
        "colab": {
          "base_uri": "https://localhost:8080/"
        },
        "id": "JJKbTy4WW_S-",
        "outputId": "805c5c8c-3c88-4a9b-e9df-8f946f888cc4"
      },
      "execution_count": 42,
      "outputs": [
        {
          "output_type": "stream",
          "name": "stdout",
          "text": [
            "On branch master\n",
            "Your branch is ahead of 'origin/master' by 1 commit.\n",
            "  (use \"git push\" to publish your local commits)\n",
            "\n",
            "Untracked files:\n",
            "  (use \"git add <file>...\" to include in what will be committed)\n",
            "\t\u001b[31mdatasets/__pycache__/\u001b[m\n",
            "\t\u001b[31mmodels/__pycache__/\u001b[m\n",
            "\t\u001b[31mprocessed_data/\u001b[m\n",
            "\t\u001b[31mutils/__pycache__/\u001b[m\n",
            "\n",
            "nothing added to commit but untracked files present (use \"git add\" to track)\n"
          ]
        }
      ]
    },
    {
      "cell_type": "code",
      "source": [
        "!git push origin master"
      ],
      "metadata": {
        "colab": {
          "base_uri": "https://localhost:8080/"
        },
        "id": "a4hQjEULXS55",
        "outputId": "292061cc-af53-4625-8f14-fd00e954c526"
      },
      "execution_count": 54,
      "outputs": [
        {
          "output_type": "stream",
          "name": "stdout",
          "text": [
            "fatal: could not read Username for 'https://github.com': No such device or address\n"
          ]
        }
      ]
    },
    {
      "cell_type": "code",
      "source": [
        "!python train.py --data-dir processed_data --save-dir training_results"
      ],
      "metadata": {
        "colab": {
          "base_uri": "https://localhost:8080/"
        },
        "id": "nO8qF-3l6X2X",
        "outputId": "7269cf69-04af-4710-9a72-44733b2679ca"
      },
      "execution_count": 23,
      "outputs": [
        {
          "output_type": "stream",
          "name": "stdout",
          "text": [
            "Traceback (most recent call last):\n",
            "  File \"/content/drive/My Drive/colab/Bayesian-Crowd-Counting/train.py\", line 1, in <module>\n",
            "    from utils.regression_trainer import RegTrainer\n",
            "  File \"/content/drive/My Drive/colab/Bayesian-Crowd-Counting/utils/regression_trainer.py\", line 14, in <module>\n",
            "    from datasets.crowd import Crowd\n",
            "  File \"/content/drive/My Drive/colab/Bayesian-Crowd-Counting/datasets/crowd.py\", line 6, in <module>\n",
            "    import torchvision.transforms.functional as F\n",
            "  File \"/usr/local/lib/python3.11/dist-packages/torchvision/__init__.py\", line 10, in <module>\n",
            "    from torchvision import _meta_registrations, datasets, io, models, ops, transforms, utils  # usort:skip\n",
            "    ^^^^^^^^^^^^^^^^^^^^^^^^^^^^^^^^^^^^^^^^^^^^^^^^^^^^^^^^^^^^^^^^^^^^^^^^^^^^^^^^^^^^^^^^^\n",
            "  File \"/usr/local/lib/python3.11/dist-packages/torchvision/datasets/__init__.py\", line 23, in <module>\n",
            "    from .fakedata import FakeData\n",
            "  File \"/usr/local/lib/python3.11/dist-packages/torchvision/datasets/fakedata.py\", line 5, in <module>\n",
            "    from .. import transforms\n",
            "  File \"/usr/local/lib/python3.11/dist-packages/torchvision/transforms/__init__.py\", line 1, in <module>\n",
            "    from .transforms import *\n",
            "KeyboardInterrupt\n",
            "^C\n"
          ]
        }
      ]
    }
  ]
}